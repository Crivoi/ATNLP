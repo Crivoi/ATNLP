{
 "cells": [
  {
   "cell_type": "code",
   "execution_count": 1,
   "metadata": {},
   "outputs": [],
   "source": [
    "import numpy as np\n",
    "import matplotlib.pyplot as plt\n",
    "from scipy.stats import sem"
   ]
  },
  {
   "cell_type": "code",
   "execution_count": 2,
   "metadata": {},
   "outputs": [],
   "source": [
    "\n",
    "overall_best_1 = np.array([0.06308873967441186, 0.06700159412588765, 0.07134921018308295, 0.07047968697164388, 0.08502004734070819]) * 100\n",
    "overall_best_2 = np.array([0.5321100917431193, 0.6039430021471794, 0.5454811633808315, 0.5961838766347843, 0.5953054850673434]) * 100\n",
    "overall_best_4 = np.array([0.9739463983261931, 0.9369831622994919, 0.9494868984756402, 0.9669722028494571, 0.9578559330477234]) * 100\n",
    "overall_best_8 = np.array([0.9957895831167481, 0.9882004366358249, 0.9910593616800083, 0.987212807984198, 0.9898118307516374]) * 100\n",
    "overall_best_16 = np.array([0.9971534301167093, 0.9981212638770282, 0.9846854540278964, 0.9973811557073726, 0.9805863933959579]) * 100\n",
    "overall_best_32 = np.array([0.9971534301167093, 0.9972571910823546, 0.9927561713200647, 0.9971165342147831, 0.9979604754202124]) * 100\n",
    "overall_best_64 = np.array([0.9990701381509033, 0.9937566418703507, 0.9922954303931987, 0.9897715196599363, 0.995616365568544]) * 100\n",
    "overall_best_80 = np.array([0.9890004782400765, 0.9959349593495935, 0.9791965566714491, 0.9992826398852224, 0.9983261597321855]) * 100\n",
    "\n",
    "experiment_best_80 = np.array([0.9968914395026304, 0.9976087996174079, 0.9971305595408895, 0.9978479196556671, 0.9990435198469632]) * 100"
   ]
  },
  {
   "cell_type": "code",
   "execution_count": 3,
   "metadata": {},
   "outputs": [],
   "source": [
    "overall_best_1_mean = np.mean(overall_best_1)\n",
    "overall_best_2_mean = np.mean(overall_best_2)\n",
    "overall_best_4_mean = np.mean(overall_best_4)\n",
    "overall_best_8_mean = np.mean(overall_best_8)\n",
    "overall_best_16_mean = np.mean(overall_best_16)\n",
    "overall_best_32_mean = np.mean(overall_best_32)\n",
    "overall_best_64_mean = np.mean(overall_best_64)\n",
    "overall_best_80_mean = np.mean(overall_best_80)\n",
    "\n",
    "experiment_best_80_mean = np.mean(experiment_best_80)"
   ]
  },
  {
   "cell_type": "code",
   "execution_count": 4,
   "metadata": {},
   "outputs": [],
   "source": [
    "overall_best_1_sem = sem(overall_best_1)\n",
    "overall_best_2_sem = sem(overall_best_2)\n",
    "overall_best_4_sem = sem(overall_best_4)\n",
    "overall_best_8_sem = sem(overall_best_8)\n",
    "overall_best_16_sem = sem(overall_best_16)\n",
    "overall_best_32_sem = sem(overall_best_32)\n",
    "overall_best_64_sem = sem(overall_best_64)\n",
    "overall_best_80_sem = sem(overall_best_80)\n",
    "\n",
    "experiment_best_80_sem = sem(experiment_best_80)"
   ]
  },
  {
   "cell_type": "code",
   "execution_count": 5,
   "metadata": {},
   "outputs": [
    {
     "name": "stdout",
     "output_type": "stream",
     "text": [
      "Overall best - 80%: mean: 99.23481587757054, SEM: 0.3747400865453784\n",
      "Experiment best - 80%: mean: 99.77044476327114, SEM: 0.037504512533138766\n"
     ]
    }
   ],
   "source": [
    "print(f\"Overall best - 80%: mean: {overall_best_80_mean}, SEM: {overall_best_80_sem}\")\n",
    "print(f\"Experiment best - 80%: mean: {experiment_best_80_mean}, SEM: {experiment_best_80_sem}\")"
   ]
  },
  {
   "cell_type": "code",
   "execution_count": 6,
   "metadata": {},
   "outputs": [],
   "source": [
    "x_labels = [\"1%\", \"2%\", \"4%\", \"8%\", \"16%\", \"32%\", \"64%\"]\n",
    "x_pos = np.arange(len(x_labels))\n",
    "CTEs = [overall_best_1_mean, overall_best_2_mean, overall_best_4_mean, overall_best_8_mean, overall_best_16_mean, overall_best_32_mean, overall_best_64_mean]\n",
    "error = [overall_best_1_sem, overall_best_2_sem, overall_best_4_sem, overall_best_8_sem, overall_best_16_sem, overall_best_32_sem, overall_best_64_sem]"
   ]
  },
  {
   "cell_type": "code",
   "execution_count": 18,
   "metadata": {},
   "outputs": [
    {
     "data": {
      "image/png": "[encoded data removed]",
      "text/plain": [
       "<Figure size 432x288 with 1 Axes>"
      ]
     },
     "metadata": {
      "needs_background": "light"
     },
     "output_type": "display_data"
    }
   ],
   "source": [
    "fig, ax = plt.subplots()\n",
    "ax.bar(x_pos, CTEs, yerr=error, align=\"center\", ecolor=\"black\", alpha=0.5)\n",
    "ax.set_xlabel(\"Percent of commands used for training\", fontsize=14)\n",
    "ax.set_ylabel(\"Accuracy on new commands (%)\", fontsize=14)\n",
    "plt.xticks(fontsize=14)\n",
    "plt.yticks(fontsize=14)\n",
    "ax.set_xticks(x_pos)\n",
    "ax.set_xticklabels(x_labels)\n",
    "plt.tight_layout()\n",
    "plt.savefig(\"experiment_1.png\", dpi=300)"
   ]
  },
  {
   "cell_type": "code",
   "execution_count": null,
   "metadata": {},
   "outputs": [],
   "source": []
  }
 ],
 "metadata": {
  "kernelspec": {
   "display_name": "Python 3",
   "language": "python",
   "name": "python3"
  },
  "language_info": {
   "codemirror_mode": {
    "name": "ipython",
    "version": 3
   },
   "file_extension": ".py",
   "mimetype": "text/x-python",
   "name": "python",
   "nbconvert_exporter": "python",
   "pygments_lexer": "ipython3",
   "version": "3.8.2"
  },
  "orig_nbformat": 4,
  "vscode": {
   "interpreter": {
    "hash": "da3ea5e70dac933d6378761929a28ee21acd3070abba30d96e03bcbf917b16cc"
   }
  }
 },
 "nbformat": 4,
 "nbformat_minor": 2
}
