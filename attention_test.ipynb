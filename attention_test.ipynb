{
 "cells": [
  {
   "cell_type": "code",
   "execution_count": 7,
   "metadata": {},
   "outputs": [],
   "source": [
    "from collections import defaultdict\n",
    "\n",
    "from torch.utils.data import DataLoader\n",
    "import scan_dataset\n",
    "import models\n",
    "import pipeline\n",
    "import torch\n",
    "import wandb\n",
    "import os\n",
    "from matplotlib import pyplot as plt\n",
    "import numpy as np\n",
    "import pickle\n",
    "from tqdm import tqdm\n",
    "import seaborn as sns"
   ]
  },
  {
   "cell_type": "code",
   "execution_count": 2,
   "metadata": {},
   "outputs": [],
   "source": [
    "input_lang = scan_dataset.Lang()\n",
    "output_lang = scan_dataset.Lang()\n",
    "\n",
    "test_dataset = scan_dataset.ScanDataset(\n",
    "    split=scan_dataset.ScanSplit.ADD_PRIM_SPLIT,\n",
    "    input_lang=input_lang,\n",
    "    output_lang=output_lang,\n",
    "    train=False,\n",
    "    split_variation='turn_left'\n",
    ")"
   ]
  },
  {
   "cell_type": "code",
   "execution_count": 3,
   "metadata": {},
   "outputs": [],
   "source": [
    "encoder = pickle.load(open(f'runs/experiment_best_encoder_exp_3_run_1.sav', 'rb'))\n",
    "decoder = pickle.load(open(f'runs/experiment_best_decoder_exp_3_run_1.sav', 'rb'))"
   ]
  },
  {
   "cell_type": "code",
   "execution_count": 11,
   "metadata": {},
   "outputs": [],
   "source": [
    "encoder.eval()\n",
    "decoder.eval()\n",
    "\n",
    "n_correct = [] # number of correct predictions\n",
    "\n",
    "with torch.no_grad():\n",
    "\n",
    "    # take a random example from dataset\n",
    "    input, target = test_dataset[10]\n",
    "\n",
    "    input_tensor, target_tensor = test_dataset.convert_to_tensor(input, target)\n",
    "\n",
    "    target_length = target_tensor.size(0)\n",
    "    pred = []\n",
    "\n",
    "    encoder_outputs, encoder_hidden = encoder(input_tensor)\n",
    "\n",
    "    decoder_input = torch.tensor([[scan_dataset.SOS_token]])\n",
    "\n",
    "    decoder_hidden = encoder_hidden\n",
    "    \n",
    "    target_length = target_tensor.size(0)\n",
    "\n",
    "    attention = []\n",
    "\n",
    "    for di in range(target_length):\n",
    "        decoder_output, decoder_hidden = decoder(\n",
    "            decoder_input, decoder_hidden, encoder.all_hidden_states)\n",
    "\n",
    "        topv, topi = decoder_output.topk(1)\n",
    "        decoder_input = topi.detach()  # detach from history as input\n",
    "\n",
    "        pred.append(decoder_input.item())\n",
    "\n",
    "        attention.append(decoder.decoder_cell.attention.attention_weights.detach().cpu().numpy())\n",
    "\n",
    "        if decoder_input.item() == scan_dataset.EOS_token:\n",
    "            break"
   ]
  },
  {
   "cell_type": "code",
   "execution_count": 13,
   "metadata": {},
   "outputs": [
    {
     "data": {
      "text/plain": [
       "('walk around right twice after turn left thrice',\n",
       " 'I_TURN_LEFT I_TURN_LEFT I_TURN_LEFT I_TURN_RIGHT I_WALK I_TURN_RIGHT I_WALK I_TURN_RIGHT I_WALK I_TURN_RIGHT I_WALK I_TURN_RIGHT I_WALK I_TURN_RIGHT I_WALK I_TURN_RIGHT I_WALK I_TURN_RIGHT I_WALK')"
      ]
     },
     "execution_count": 13,
     "metadata": {},
     "output_type": "execute_result"
    }
   ],
   "source": [
    "input, target"
   ]
  },
  {
   "cell_type": "code",
   "execution_count": 8,
   "metadata": {},
   "outputs": [
    {
     "data": {
      "image/png": "[encoded data removed]",
      "text/plain": [
       "<Figure size 432x288 with 2 Axes>"
      ]
     },
     "metadata": {
      "needs_background": "light"
     },
     "output_type": "display_data"
    }
   ],
   "source": [
    "ax = sns.heatmap(attention, linewidth=0.5)\n",
    "plt.show()"
   ]
  }
 ],
 "metadata": {
  "kernelspec": {
   "display_name": "Python 3",
   "language": "python",
   "name": "python3"
  },
  "language_info": {
   "codemirror_mode": {
    "name": "ipython",
    "version": 3
   },
   "file_extension": ".py",
   "mimetype": "text/x-python",
   "name": "python",
   "nbconvert_exporter": "python",
   "pygments_lexer": "ipython3",
   "version": "3.9.15"
  },
  "orig_nbformat": 4,
  "vscode": {
   "interpreter": {
    "hash": "a665b5d41d17b532ea9890333293a1b812fa0b73c9c25c950b3cedf1bebd0438"
   }
  }
 },
 "nbformat": 4,
 "nbformat_minor": 2
}
